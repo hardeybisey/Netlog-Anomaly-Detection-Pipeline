{
 "cells": [
  {
   "cell_type": "markdown",
   "metadata": {},
   "source": [
    "<a href=\"REF: https://github.com/GoogleCloudPlatform/df-ml-anomaly-detection/blob/master/README.md\">Reference1<a/>  <br>\n",
    "<a href=\"https://faker.readthedocs.io/en/master/\">Reference2<a/> "
   ]
  },
  {
   "cell_type": "code",
   "execution_count": 80,
   "metadata": {},
   "outputs": [],
   "source": [
    "# %%writefile datagenerator.py\n",
    "# import numpy as np\n",
    "\n",
    "from faker import Faker\n",
    "# from dataclasses import dataclass\n",
    "# from datetime import datetime, timedelta\n",
    "# import geocoder\n",
    "# from random import choice"
   ]
  },
  {
   "cell_type": "code",
   "execution_count": 15,
   "metadata": {},
   "outputs": [],
   "source": [
    "# export  NUM_DEST_IP=20\n",
    "# export  NUSERS=500\n",
    "# export  AVG_REQUESTS_SECS=10\n",
    "# export  MAX_REQUEST_BYTES=5000\n",
    "# export  MIN_SESSION_EVENTS=5\n",
    "# export  MAX_SESSION_EVENTS=20\n",
    "# export  PROJECT_ID=\"electric-armor-395015\"\n",
    "# export  TOPIC_NAME=\"netlog-stream-topic\""
   ]
  },
  {
   "cell_type": "code",
   "execution_count": null,
   "metadata": {},
   "outputs": [],
   "source": [
    "# Feature Extraction After Aggregation\n",
    "# Added processing timestamp.\n",
    "# Group by destination subnet and subscriberId\n",
    "# Number of approximate unique src IP\n",
    "# Number of approximate unique src port\n",
    "# Number of unique records\n",
    "# Max, min, avg txBytes\n",
    "# Max, min, avg rxBytes\n",
    "# Max, min, avg duration"
   ]
  },
  {
   "cell_type": "code",
   "execution_count": null,
   "metadata": {},
   "outputs": [],
   "source": [
    "# raw data\n",
    "\n",
    "{\n",
    "  \"subscriberId\":(11111111111,99999999999)\n",
    "  \"srcIP\": \"ipv4\"\n",
    "  \"dstIP\": \"subnet\"\n",
    "  \"srcPort\": (1000,5000)\n",
    "  \"dstPort\": (1000,5000)\n",
    "  \"txBytes\": (0,1000000000)\n",
    "  \"rxBytes\": (0,1000000000)\n",
    "  \"tcpFlag\": (0,65)\n",
    "  \"startTime\": \"timestamp\"\n",
    "  \"endTime\": \"timestamp\"\n",
    "  \"protocolName\": \"tcp|udp|http\"\n",
    "  \"protocolNumber\": (0,255)\n",
    "  \"geoCountry\": \"country\"\n",
    "  \"geoCity\": \"city\"\n",
    "  \"latitude\": (0,90)\n",
    "  \"longitude\": (0,180)\n",
    "}\n",
    "\n",
    "# transformed data\n",
    "{\n",
    "  \"transaction_time\": \"2019-10-27 23:22:17.848000\",\n",
    "  \"subscriber_id\": \"100\",\n",
    "  \"dst_subnet\": \"12.0.1.2/22\",\n",
    "  \"number_of_unique_ips\": \"1\",\n",
    "  \"number_of_unique_ports\": \"1\",\n",
    "  \"number_of_records\": \"2\",\n",
    "  \"max_tx_bytes\": \"15\",\n",
    "  \"min_tx_bytes\": \"10\",\n",
    "  \"avg_tx_bytes\": \"12.5\",\n",
    "  \"max_rx_bytes\": \"40\",\n",
    "  \"min_rx_bytes\": \"40\",\n",
    "  \"avg_rx_bytes\": \"40.0\",\n",
    "  \"max_duration\": \"100\",\n",
    "  \"min_duration\": \"9\",\n",
    "  \"avg_duration\": \"54.5\"\n",
    "}\n",
    "\n",
    "# model features\n",
    "{  \"number_of_records\": \"2\",\n",
    "  \"max_tx_bytes\": \"15\",\n",
    "  \"min_tx_bytes\": \"10\",\n",
    "  \"avg_tx_bytes\": \"12.5\",\n",
    "  \"max_rx_bytes\": \"40\",\n",
    "  \"min_rx_bytes\": \"40\",\n",
    "  \"avg_rx_bytes\": \"40.0\",\n",
    "  \"max_duration\": \"100\",\n",
    "  \"min_duration\": \"9\",\n",
    "  \"avg_duration\": \"54.5\"\n",
    "  }"
   ]
  },
  {
   "cell_type": "code",
   "execution_count": 4,
   "metadata": {},
   "outputs": [],
   "source": [
    "from faker import Faker"
   ]
  },
  {
   "cell_type": "code",
   "execution_count": 5,
   "metadata": {},
   "outputs": [],
   "source": [
    "faker = Faker()"
   ]
  },
  {
   "cell_type": "code",
   "execution_count": null,
   "metadata": {},
   "outputs": [],
   "source": [
    "# python3 pipeline.py --streaming --project \"electric-armor-395015\" --topic \"projects/electric-armor-395015/topics/test\" --qps 10 --runner \"DataflowRunner\" --region europe-west2 temp_location gs://my_terraform_state_bucket/temp staging_location gs://my_terraform_state_bucket/staging"
   ]
  },
  {
   "cell_type": "code",
   "execution_count": null,
   "metadata": {},
   "outputs": [],
   "source": [
    "# gcloud pubsub subscriptions pull test-sub --auto-ack --limit 1"
   ]
  },
  {
   "cell_type": "code",
   "execution_count": 1,
   "metadata": {},
   "outputs": [],
   "source": [
    "from faker import Faker"
   ]
  },
  {
   "cell_type": "code",
   "execution_count": 3,
   "metadata": {},
   "outputs": [],
   "source": [
    "client = Faker()"
   ]
  },
  {
   "cell_type": "code",
   "execution_count": 5,
   "metadata": {},
   "outputs": [],
   "source": [
    "import random\n",
    "from faker import Faker\n",
    "from typing import NamedTuple\n",
    "from datetime import datetime, timedelta\n",
    "\n",
    "client = Faker()\n",
    "\n",
    "class Network(NamedTuple):\n",
    "    ipv4: str\n",
    "    port: int\n",
    "    protocol_name: str\n",
    "    protocol_num: int\n",
    "    \n",
    "class User(NamedTuple):\n",
    "    subscriber_id: str\n",
    "    ipv4: str\n",
    "    port: int\n",
    "\n",
    "class NetworkPool:\n",
    "    def __init__(self, num_dest_ip=10000):\n",
    "        self._client = client\n",
    "        self._num_dest_ip = num_dest_ip\n",
    "        self._protocols = [(\"TCP\", 6), (\"UDP\", 17), (\"HTTP\", 80), (\"HTTPS\", 443)]\n",
    "        self._ip = self._generate_ipv4()\n",
    "        \n",
    "    def _ipv4(self):\n",
    "        return random.choice(self._ip)\n",
    "     \n",
    "    def _port(self):\n",
    "        return self._client.port_number(\"system\")\n",
    "    \n",
    "    def _protocol_info(self):\n",
    "        return random.choice(self._protocols)\n",
    "    \n",
    "    def _generate_ipv4(self):\n",
    "        return [self._client.ipv4_private() for _ in range(self._num_dest_ip)]\n",
    "    \n",
    "    def get_network(self):\n",
    "        protocol = self._protocol_info()\n",
    "        return Network(self._ipv4(), self._port(), protocol[0], protocol[1])\n",
    "\n",
    "class UserObject:\n",
    "    def __init__(self):\n",
    "        self.client = client\n",
    "        \n",
    "    def _subscriber_id(self):\n",
    "        return self.client.uuid4()\n",
    "    \n",
    "    def _ipv4(self):\n",
    "        return self.client.ipv4()\n",
    "    \n",
    "    def _port(self):\n",
    "        return self.client.port_number(\"user\")\n",
    "    \n",
    "    def get_user(self):\n",
    "        return User(self._subscriber_id(), self._ipv4(), self._port())\n",
    "\n",
    "class JsonEvent:\n",
    "    max_request_bytes = 5000\n",
    "    allowed_lag_sec = 10\n",
    "    \n",
    "    @classmethod\n",
    "    def generate(cls, user, network):\n",
    "        start_time = datetime.now()\n",
    "        time_diff = random.uniform(0, cls.allowed_lag_sec)\n",
    "        end_time = start_time + timedelta(seconds=time_diff)\n",
    "        return {\"subscriber_id\": user.subscriber_id,\n",
    "                \"src_ip\": user.ipv4,\n",
    "                \"src_port\": user.port,\n",
    "                \"dest_ip\": network.ipv4,\n",
    "                \"dst_port\": network.port,\n",
    "                \"tx_bytes\": cls._normalized_bytes(time_diff),\n",
    "                \"rx_bytes\": cls._normalized_bytes(time_diff),\n",
    "                \"start_time\": start_time.isoformat(),\n",
    "                \"end_time\": end_time.isoformat(),\n",
    "                \"protocol_name\": network.protocol_name,\n",
    "                \"protocol_num\": network.protocol_num}\n",
    "        \n",
    "    @classmethod\n",
    "    def _normalized_bytes(cls, lag_time):\n",
    "        random_byte = random.uniform(10, 100)\n",
    "        normalized_byte = random_byte * lag_time\n",
    "        return int(min(normalized_byte, cls.max_request_bytes))\n",
    "    "
   ]
  },
  {
   "cell_type": "code",
   "execution_count": 6,
   "metadata": {},
   "outputs": [],
   "source": [
    "b = NetworkPool()"
   ]
  },
  {
   "cell_type": "code",
   "execution_count": 15,
   "metadata": {},
   "outputs": [
    {
     "data": {
      "text/plain": [
       "Network(ipv4='192.168.250.238', port=586, protocol_name='UDP', protocol_num=17)"
      ]
     },
     "execution_count": 15,
     "metadata": {},
     "output_type": "execute_result"
    }
   ],
   "source": [
    "b.get_network()"
   ]
  },
  {
   "cell_type": "code",
   "execution_count": null,
   "metadata": {},
   "outputs": [],
   "source": []
  }
 ],
 "metadata": {
  "kernelspec": {
   "display_name": "bigdata",
   "language": "python",
   "name": "python3"
  },
  "language_info": {
   "codemirror_mode": {
    "name": "ipython",
    "version": 3
   },
   "file_extension": ".py",
   "mimetype": "text/x-python",
   "name": "python",
   "nbconvert_exporter": "python",
   "pygments_lexer": "ipython3",
   "version": "3.9.16"
  },
  "orig_nbformat": 4
 },
 "nbformat": 4,
 "nbformat_minor": 2
}
