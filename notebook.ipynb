{
 "cells": [
  {
   "cell_type": "markdown",
   "metadata": {},
   "source": [
    "<a href=\"REF: https://github.com/GoogleCloudPlatform/df-ml-anomaly-detection/blob/master/README.md\">Reference1<a/>  <br>\n",
    "<a href=\"https://faker.readthedocs.io/en/master/\">Reference2<a/> "
   ]
  },
  {
   "cell_type": "code",
   "execution_count": 20,
   "metadata": {},
   "outputs": [],
   "source": [
    "import torch\n",
    "import json\n",
    "import torch\n",
    "import typing\n",
    "from torch import nn\n",
    "from IPython.display import clear_output\n",
    "import apache_beam as beam\n",
    "from datetime import datetime\n",
    "import torch.nn.functional as F\n",
    "from datasets import load_dataset\n",
    "from torch.utils.data import Dataset"
   ]
  },
  {
   "cell_type": "code",
   "execution_count": null,
   "metadata": {},
   "outputs": [],
   "source": [
    "# !pip install datasets gcsfs torch "
   ]
  },
  {
   "cell_type": "code",
   "execution_count": 15,
   "metadata": {},
   "outputs": [],
   "source": [
    "class CustomDataset(Dataset):\n",
    "    def __init__(self, data):\n",
    "        self.data = data\n",
    "\n",
    "    def __len__(self):\n",
    "        return len(self.data)\n",
    "\n",
    "    def __getitem__(self, index):\n",
    "        sample = self.data.iloc[index, :]\n",
    "        return sample"
   ]
  },
  {
   "cell_type": "code",
   "execution_count": 16,
   "metadata": {},
   "outputs": [],
   "source": [
    "class Autoencoder(nn.Module):  # 65-32-8-32-65\n",
    "    def __init__(self):\n",
    "        pass\n",
    "\n",
    "    def encode(self, x):  # 65-32-8\n",
    "        pass\n",
    "\n",
    "    def decode(self, x):  # 8-32-65\n",
    "        pass\n",
    "        \n",
    "    def forward(self, x):  # 65-32-8-32-65\n",
    "        pass\n"
   ]
  },
  {
   "cell_type": "code",
   "execution_count": 57,
   "metadata": {},
   "outputs": [],
   "source": [
    "data_files = {\"train\":\"gs://electric-armor-395015-netlog-bucket/aggregate/-2023-10-16T10:24:00-2023-10-16T10:25:00-00000-of-00001\"}\n",
    "netlogdata = load_dataset(\"json\", data_files=data_files)#streaming=True)\n",
    "clear_output()"
   ]
  },
  {
   "cell_type": "code",
   "execution_count": null,
   "metadata": {},
   "outputs": [],
   "source": [
    "python src/feature-pipeline/feature.py --bucket gs://electric-armor-395015-netlog-bucket --file_name_suffix \".json\" --netlog_bq_table \"electric-armor-395015.netlog_dataset.log\" --input_file_pattern '/anomaly/*.avro' --temp_location 'gs://electric-armor-395015-netlog-bucket/temp'"
   ]
  },
  {
   "cell_type": "code",
   "execution_count": 58,
   "metadata": {},
   "outputs": [
    {
     "data": {
      "text/plain": [
       "DatasetDict({\n",
       "    train: Dataset({\n",
       "        features: ['subscriberId', 'dstIP', 'UniqueIPs', 'UniquePorts', 'NumRecords', 'MinTxBytes', 'MaxTxBytes', 'AvgTxBytes', 'MinRxBytes', 'MaxRxBytes', 'AvgRxBytes', 'MinDuration', 'MaxDuration', 'AvgDuration'],\n",
       "        num_rows: 511\n",
       "    })\n",
       "})"
      ]
     },
     "execution_count": 58,
     "metadata": {},
     "output_type": "execute_result"
    }
   ],
   "source": [
    "netlogdata"
   ]
  },
  {
   "cell_type": "code",
   "execution_count": 59,
   "metadata": {},
   "outputs": [],
   "source": [
    "from apache_beam.internal import pickler\n",
    "pickler.set_library(pickler.USE_CLOUDPICKLE)"
   ]
  },
  {
   "cell_type": "code",
   "execution_count": 51,
   "metadata": {},
   "outputs": [],
   "source": [
    "train = netlogdata[\"train\"]"
   ]
  },
  {
   "cell_type": "code",
   "execution_count": 55,
   "metadata": {},
   "outputs": [
    {
     "data": {
      "text/plain": [
       "{'subscriberId': 'e5bfd709-3e13-4fff-a4e3-7a84f9cdcc0a',\n",
       " 'dstIP': '10.235.124.231',\n",
       " 'UniqueIPs': 1,\n",
       " 'UniquePorts': 1,\n",
       " 'NumRecords': 22,\n",
       " 'MinTxBytes': 68,\n",
       " 'MaxTxBytes': 704,\n",
       " 'AvgTxBytes': 296.4545454545,\n",
       " 'MinRxBytes': 62,\n",
       " 'MaxRxBytes': 466,\n",
       " 'AvgRxBytes': 233.5,\n",
       " 'MinDuration': 1,\n",
       " 'MaxDuration': 10,\n",
       " 'AvgDuration': 5.1363636364}"
      ]
     },
     "execution_count": 55,
     "metadata": {},
     "output_type": "execute_result"
    }
   ],
   "source": [
    "# shuffled_dataset = train.take(5)\n",
    "next(iter(shuffled_dataset))"
   ]
  },
  {
   "cell_type": "code",
   "execution_count": null,
   "metadata": {},
   "outputs": [],
   "source": [
    "!docker build -t hardeybisey/netlog-event-generator:latest .\n",
    "!docker push hardeybisey/netlog-event-generator:latest\n",
    "!python main.py --runner=DataflowRunner --project=electric-armor-395015 --region=europe-west2 --temp_location=gs://electric-armor-395015-netlog-bucket/tmp --sdk_container_image=hardeybisey/netlog-event-generator --topic=projects/electric-armor-395015/topics/netlog-topic --qps=1000 --event_type=anomaly --sdk_location=container --pickle_library=cloudpickle"
   ]
  },
  {
   "cell_type": "code",
   "execution_count": 127,
   "metadata": {},
   "outputs": [],
   "source": [
    "import avro.schema\n",
    "from avro.datafile import DataFileReader, DataFileWriter\n",
    "from avro.io import DatumReader, DatumWriter"
   ]
  },
  {
   "cell_type": "code",
   "execution_count": 157,
   "metadata": {},
   "outputs": [
    {
     "ename": "AttributeError",
     "evalue": "'bytes' object has no attribute 'update'",
     "output_type": "error",
     "traceback": [
      "\u001b[0;31m---------------------------------------------------------------------------\u001b[0m",
      "\u001b[0;31mAttributeError\u001b[0m                            Traceback (most recent call last)",
      "\u001b[1;32m/Users/hardey/Desktop/GITHUB/AnomalyDetectionPipeline/notebook.ipynb Cell 9\u001b[0m line \u001b[0;36m2\n\u001b[1;32m      <a href='vscode-notebook-cell:/Users/hardey/Desktop/GITHUB/AnomalyDetectionPipeline/notebook.ipynb#X56sZmlsZQ%3D%3D?line=0'>1</a>\u001b[0m a \u001b[39m=\u001b[39m \u001b[39mb\u001b[39m\u001b[39m\"\u001b[39m\u001b[39m{\u001b[39m\u001b[39m\\\"\u001b[39;00m\u001b[39mname\u001b[39m\u001b[39m\\\"\u001b[39;00m\u001b[39m: \u001b[39m\u001b[39m\\\"\u001b[39;00m\u001b[39mAdam\u001b[39m\u001b[39m\\\"\u001b[39;00m\u001b[39m, \u001b[39m\u001b[39m\\\"\u001b[39;00m\u001b[39mage\u001b[39m\u001b[39m\\\"\u001b[39;00m\u001b[39m: 30}\u001b[39m\u001b[39m\"\u001b[39m\n\u001b[0;32m----> <a href='vscode-notebook-cell:/Users/hardey/Desktop/GITHUB/AnomalyDetectionPipeline/notebook.ipynb#X56sZmlsZQ%3D%3D?line=1'>2</a>\u001b[0m a\u001b[39m.\u001b[39;49mupdate\n",
      "\u001b[0;31mAttributeError\u001b[0m: 'bytes' object has no attribute 'update'"
     ]
    }
   ],
   "source": [
    "a = b\"{\\\"name\\\": \\\"Adam\\\", \\\"age\\\": 30}\"\n",
    "a.update"
   ]
  },
  {
   "cell_type": "code",
   "execution_count": 152,
   "metadata": {},
   "outputs": [
    {
     "name": "stdout",
     "output_type": "stream",
     "text": [
      "{'subscription_name': 'gsc-sub', 'message_id': '8886770784205506', 'publish_time': datetime.datetime(2023, 10, 16, 10, 34, 20, 118000, tzinfo=<avro.timezones.UTCTzinfo object at 0x7fb92b52ba60>), 'attributes': {}, 'data': b'{\"subscriberId\": \"067b56b3-9cf2-4b20-a695-22e7d21d2198\", \"srcIP\": \"23.53.254.31\", \"srcPort\": 2781, \"dstIP\": \"10.104.26.160\", \"dstPort\": 3806, \"txBytes\": 372, \"rxBytes\": 275, \"startTime\": \"2023-10-16T10:34:19\", \"endTime\": \"2023-10-16T10:34:24\", \"tcpFlag\": \"PSH\", \"protocolName\": \"TCP\", \"protocolNumber\": 6}'}\n"
     ]
    }
   ],
   "source": [
    "reader = DataFileReader(open(\"/Users/hardey/Downloads/raw_2023-10-16T10 34 20+00 00_f4cc9c.avro\", \"rb\"), DatumReader())\n",
    "for user in reader:\n",
    "    break\n",
    "print(user)\n",
    "reader.close()"
   ]
  }
 ],
 "metadata": {
  "kernelspec": {
   "display_name": "bigdata",
   "language": "python",
   "name": "python3"
  },
  "language_info": {
   "codemirror_mode": {
    "name": "ipython",
    "version": 3
   },
   "file_extension": ".py",
   "mimetype": "text/x-python",
   "name": "python",
   "nbconvert_exporter": "python",
   "pygments_lexer": "ipython3",
   "version": "3.9.16"
  },
  "orig_nbformat": 4
 },
 "nbformat": 4,
 "nbformat_minor": 2
}
