{
 "cells": [
  {
   "cell_type": "markdown",
   "metadata": {},
   "source": [
    "<a href=\"REF: https://github.com/GoogleCloudPlatform/df-ml-anomaly-detection/blob/master/README.md\">Reference<a/> "
   ]
  },
  {
   "cell_type": "code",
   "execution_count": null,
   "metadata": {},
   "outputs": [],
   "source": [
    "gs://wesp-flow-logs/*.*"
   ]
  },
  {
   "cell_type": "code",
   "execution_count": null,
   "metadata": {},
   "outputs": [],
   "source": [
    "\"subscriberId\":(11111111111,99999999999)\n",
    "\"srcIP\": \"ipv4\"\n",
    "\"dstIP\": \"subnet\"\n",
    "\"srcPort\": (1000,5000)\n",
    "\"dstPort\": (1000,5000)\n",
    "\"txBytes\": (0,1000000000)\n",
    "\"rxBytes\": (0,1000000000)\n",
    "\"tcpFlag\": (0,65)\n",
    "\"startTime\": \"timestamp\"\n",
    "\"endTime\": \"timestamp\"\n",
    "\"protocolName\": \"tcp|udp|http\"\n",
    "\"protocolNumber\": (0,255)\n",
    "\"geoCountry\": \"country\"\n",
    "\"geoCity\": \"city\"\n",
    "\"latitude\": (0,90)\n",
    "\"longitude\": (0,180)"
   ]
  },
  {
   "cell_type": "code",
   "execution_count": null,
   "metadata": {},
   "outputs": [],
   "source": [
    "\"proto\":6, \"src\":\"100.111.22.33:21291\", \"dst\":\"100.111.44.55:63281\",\n",
    "\"txPkts\":2, \"txBytes\":108, \"rxPkts\":2, \"rxBytes\":112"
   ]
  },
  {
   "cell_type": "code",
   "execution_count": null,
   "metadata": {},
   "outputs": [],
   "source": []
  },
  {
   "cell_type": "code",
   "execution_count": null,
   "metadata": {},
   "outputs": [],
   "source": [
    "from faker import Faker\n",
    "import geocoder\n",
    "from random import choice\n",
    "\n",
    "parser = argparse.ArgumentParser(__file__, description=\"Web Server Data Generator\")\n",
    "parser.add_argument(\"--num_users\", \"-u\", type=int, dest=\"num_users\",\n",
    "                    help=\"The number of users to create\", default=100)\n",
    "\n",
    "\n",
    "faker = Faker()\n",
    "# A list of functions for generating user agent strings for various browsers\n",
    "ualist = [faker.firefox, faker.chrome, faker.safari, faker.internet_explorer, faker.opera]"
   ]
  }
 ],
 "metadata": {
  "kernelspec": {
   "display_name": "bigdata",
   "language": "python",
   "name": "python3"
  },
  "language_info": {
   "name": "python",
   "version": "3.9.13"
  },
  "orig_nbformat": 4
 },
 "nbformat": 4,
 "nbformat_minor": 2
}
