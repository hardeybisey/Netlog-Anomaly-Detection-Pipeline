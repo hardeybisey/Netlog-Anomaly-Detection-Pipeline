{
 "cells": [
  {
   "cell_type": "markdown",
   "metadata": {},
   "source": [
    "<a href=\"REF: https://github.com/GoogleCloudPlatform/df-ml-anomaly-detection/blob/master/README.md\">Reference1<a/>  <br>\n",
    "<a href=\"https://faker.readthedocs.io/en/master/\">Reference2<a/> "
   ]
  },
  {
   "cell_type": "code",
   "execution_count": 85,
   "metadata": {},
   "outputs": [],
   "source": [
    "import json\n",
    "import argparse\n",
    "import typing\n",
    "import ipaddress\n",
    "import apache_beam as beam\n",
    "from datetime import datetime\n",
    "from apache_beam.options.pipeline_options import PipelineOptions,GoogleCloudOptions, StandardOptions, SetupOptions, PipelineOptions\n",
    "from apache_beam.runners.interactive.interactive_runner import InteractiveRunner\n",
    "import apache_beam.runners.interactive.interactive_beam as ib"
   ]
  },
  {
   "cell_type": "code",
   "execution_count": 144,
   "metadata": {},
   "outputs": [
    {
     "name": "stdout",
     "output_type": "stream",
     "text": [
      "{'name': 'adam', 'sum': 4}\n",
      "{'name': 'basit', 'sum': 6}\n",
      "{'name': 'china', 'sum': 5}\n",
      "{'name': 'beijin', 'sum': 6}\n"
     ]
    },
    {
     "data": {
      "text/plain": [
       "<apache_beam.runners.portability.fn_api_runner.fn_runner.RunnerResult at 0x7fb914a7a490>"
      ]
     },
     "execution_count": 144,
     "metadata": {},
     "output_type": "execute_result"
    }
   ],
   "source": [
    "p = beam.Pipeline()\n",
    "data = (p\n",
    "        | beam.Create([(\"adam\",1),(\"basit\",2),(\"adam\",3),(\"basit\",4),(\"china\",5),(\"beijin\",6)])\n",
    "        | beam.Map(lambda x: beam.Row(name=x[0],age=x[1]))\n",
    "        | beam.GroupBy(\"name\").aggregate_field(\"age\", sum, \"sum\")\n",
    "        # | beam.ParDo(AddProcessingTime())\n",
    "        | beam.Map(lambda x: T(x[0], x[1])).with_output_types(T)\n",
    "        | beam.Map(lambda x: x._asdict())\n",
    "        | beam.Map(print)\n",
    "        # | beam.Map(lambda x: print(x._asdict()))      \n",
    ")\n",
    "p.run()"
   ]
  },
  {
   "cell_type": "code",
   "execution_count": 145,
   "metadata": {},
   "outputs": [
    {
     "name": "stdout",
     "output_type": "stream",
     "text": [
      "192.168.1.0/24\n"
     ]
    }
   ],
   "source": [
    "def ip_to_cidr(ip, subnet_mask):\n",
    "    # Parse the IP address and subnet mask\n",
    "    ip_network = ipaddress.IPv4Network(f\"{ip}/{subnet_mask}\", strict=False)\n",
    "    # Get the CIDR notation\n",
    "    cidr_notation = str(ip_network)    \n",
    "    return cidr_notation\n",
    "\n",
    "# Example usage\n",
    "ip = \"192.168.1.10\"\n",
    "subnet_mask = \"255.255.255.0\"\n",
    "ip = ipaddress.IPv4Address(ip)\n",
    "cidr = ip_to_cidr(ip, subnet_mask)\n",
    "print(cidr) "
   ]
  },
  {
   "cell_type": "code",
   "execution_count": null,
   "metadata": {},
   "outputs": [],
   "source": [
    "# gcloud pubsub subscriptions pull test-sub --auto-ack --limit 1"
   ]
  },
  {
   "cell_type": "code",
   "execution_count": 127,
   "metadata": {},
   "outputs": [],
   "source": [
    "import avro.schema\n",
    "from avro.datafile import DataFileReader, DataFileWriter\n",
    "from avro.io import DatumReader, DatumWriter"
   ]
  },
  {
   "cell_type": "code",
   "execution_count": 132,
   "metadata": {},
   "outputs": [
    {
     "name": "stdout",
     "output_type": "stream",
     "text": [
      "{'subscription_name': 'gsc-sub', 'message_id': '8886770784205506', 'publish_time': datetime.datetime(2023, 10, 16, 10, 34, 20, 118000, tzinfo=<avro.timezones.UTCTzinfo object at 0x7fb92b52ba60>), 'attributes': {}, 'data': b'{\"subscriberId\": \"067b56b3-9cf2-4b20-a695-22e7d21d2198\", \"srcIP\": \"23.53.254.31\", \"srcPort\": 2781, \"dstIP\": \"10.104.26.160\", \"dstPort\": 3806, \"txBytes\": 372, \"rxBytes\": 275, \"startTime\": \"2023-10-16T10:34:19\", \"endTime\": \"2023-10-16T10:34:24\", \"tcpFlag\": \"PSH\", \"protocolName\": \"TCP\", \"protocolNumber\": 6}'}\n"
     ]
    }
   ],
   "source": [
    "reader = DataFileReader(open(\"/Users/hardey/Downloads/raw_2023-10-16T10 34 20+00 00_f4cc9c.avro\", \"rb\"), DatumReader())\n",
    "for user in reader:\n",
    "    break\n",
    "print(user)\n",
    "reader.close()"
   ]
  }
 ],
 "metadata": {
  "kernelspec": {
   "display_name": "bigdata",
   "language": "python",
   "name": "python3"
  },
  "language_info": {
   "codemirror_mode": {
    "name": "ipython",
    "version": 3
   },
   "file_extension": ".py",
   "mimetype": "text/x-python",
   "name": "python",
   "nbconvert_exporter": "python",
   "pygments_lexer": "ipython3",
   "version": "3.9.16"
  },
  "orig_nbformat": 4
 },
 "nbformat": 4,
 "nbformat_minor": 2
}
